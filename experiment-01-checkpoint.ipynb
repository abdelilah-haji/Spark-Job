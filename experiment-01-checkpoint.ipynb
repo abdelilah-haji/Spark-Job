{
 "cells": [
  {
   "cell_type": "markdown",
   "id": "64791a43-c330-443b-a5c5-fbe4f2457631",
   "metadata": {},
   "source": [
    "# Students Clustering Based on Grades"
   ]
  },
  {
   "cell_type": "markdown",
   "id": "90584b7d-879d-4e1c-8c4b-05271aeee4de",
   "metadata": {},
   "source": [
    "## Loading The dataset and slecting features"
   ]
  },
  {
   "cell_type": "markdown",
   "id": "c09b948b-a2a9-4be6-8465-89a629b40e02",
   "metadata": {},
   "source": [
    "### Pyspark Initialiasing"
   ]
  },
  {
   "cell_type": "code",
   "execution_count": 1,
   "id": "86ce7983-c4ff-4b98-9399-96b964efece2",
   "metadata": {},
   "outputs": [
    {
     "name": "stderr",
     "output_type": "stream",
     "text": [
      "22/06/11 17:08:00 WARN Utils: Your hostname, DESKTOP-CRQMAJP resolves to a loopback address: 127.0.1.1; using 172.19.119.117 instead (on interface eth0)\n",
      "22/06/11 17:08:00 WARN Utils: Set SPARK_LOCAL_IP if you need to bind to another address\n",
      "WARNING: An illegal reflective access operation has occurred\n",
      "WARNING: Illegal reflective access by org.apache.spark.unsafe.Platform (file:/home/abdelilah/spark/spark-3.0.3-bin-hadoop3.2/jars/spark-unsafe_2.12-3.0.3.jar) to constructor java.nio.DirectByteBuffer(long,int)\n",
      "WARNING: Please consider reporting this to the maintainers of org.apache.spark.unsafe.Platform\n",
      "WARNING: Use --illegal-access=warn to enable warnings of further illegal reflective access operations\n",
      "WARNING: All illegal access operations will be denied in a future release\n",
      "22/06/11 17:08:02 WARN NativeCodeLoader: Unable to load native-hadoop library for your platform... using builtin-java classes where applicable\n",
      "Using Spark's default log4j profile: org/apache/spark/log4j-defaults.properties\n",
      "Setting default log level to \"WARN\".\n",
      "To adjust logging level use sc.setLogLevel(newLevel). For SparkR, use setLogLevel(newLevel).\n"
     ]
    }
   ],
   "source": [
    "# to make pyspark importable as a regular library\n",
    "import findspark\n",
    "findspark.init()\n",
    "\n",
    "import pyspark\n",
    "\n",
    "#initializasing SparkSession for creating Spark DataFrame\n",
    "from pyspark.sql import SparkSession\n",
    "spark = SparkSession \\\n",
    "       .builder.config(\"spark.jars\", \"/usr/share/java/mysql-connector-java-8.0.28.jar\")\\\n",
    "       .master(\"local\").appName(\"PySpark app\")\\\n",
    "       .getOrCreate()"
   ]
  },
  {
   "cell_type": "markdown",
   "id": "9b3604ff-5812-4795-83e9-ca8468af1c84",
   "metadata": {},
   "source": [
    "### Load Libraries"
   ]
  },
  {
   "cell_type": "code",
   "execution_count": 2,
   "id": "c1b7e030-d5d0-4905-89a7-9057d8d68ede",
   "metadata": {},
   "outputs": [],
   "source": [
    "# Data Frame spark profiling \n",
    "from pyspark.sql.types import IntegerType, StringType, DoubleType, ShortType, DecimalType\n",
    "import pyspark.sql.functions as func\n",
    "from pyspark.sql.functions import isnull\n",
    "from pyspark.sql.functions import isnan, when, count, col, round\n",
    "from pyspark.sql.functions import mean\n",
    "from pyspark.sql.types import Row\n",
    "import matplotlib.pyplot as plt\n",
    "from pyspark.sql.functions import udf\n",
    "\n",
    "\n",
    "# Pandas DF operation\n",
    "import pandas as pd\n",
    "import numpy as np\n",
    "import matplotlib.pyplot as plt\n",
    "import seaborn as sns\n",
    "from numpy import array\n",
    "\n",
    "\n",
    "# Modeling + Evaluation\n",
    "from pyspark.ml.feature import VectorAssembler, VectorIndexer, OneHotEncoder, StringIndexer\n",
    "from pyspark.sql.functions import when\n",
    "from pyspark.sql import functions as F\n",
    "from pyspark.sql.functions import avg\n",
    "from pyspark.ml import Pipeline\n",
    "from pyspark.ml.clustering import KMeans\n",
    "from pyspark.ml.feature import StandardScaler\n",
    "from mpl_toolkits.mplot3d import Axes3D"
   ]
  },
  {
   "cell_type": "markdown",
   "id": "3e9cd565-ee15-48c6-aa41-dd920c54d6c2",
   "metadata": {},
   "source": [
    "### Load Data to Spark DataFrame"
   ]
  },
  {
   "cell_type": "code",
   "execution_count": 3,
   "id": "b7acca27-fb44-4a66-b989-105f07960845",
   "metadata": {},
   "outputs": [
    {
     "name": "stdout",
     "output_type": "stream",
     "text": [
      "Enter password:\n"
     ]
    },
    {
     "name": "stdin",
     "output_type": "stream",
     "text": [
      " ········\n"
     ]
    }
   ],
   "source": [
    "#Initializing File Type\n",
    "import mysql.connector\n",
    "import getpass\n",
    "\n",
    "print(\"Enter password:\")\n",
    "password = getpass.getpass()\n",
    "table = 'mdl_grade_grades_history'\n",
    "\n",
    "def load_data(table):\n",
    "    df = spark.read \\\n",
    "         .format(\"jdbc\") \\\n",
    "         .option(\"url\", \"jdbc:mysql://localhost:3306/moodle\") \\\n",
    "         .option(\"driver\", \"com.mysql.cj.jdbc.Driver\") \\\n",
    "         .option(\"dbtable\", table) \\\n",
    "         .option(\"user\", \"wsl_root\") \\\n",
    "         .option(\"password\", password) \\\n",
    "         .load()\n",
    "    return df"
   ]
  },
  {
   "cell_type": "code",
   "execution_count": 4,
   "id": "29b42d58-f1c0-4651-938f-ad40c660909d",
   "metadata": {},
   "outputs": [],
   "source": [
    "df = load_data(table)"
   ]
  },
  {
   "cell_type": "code",
   "execution_count": 5,
   "id": "3e86f1ed-6960-473d-a7bb-9b9858b24383",
   "metadata": {},
   "outputs": [
    {
     "name": "stdout",
     "output_type": "stream",
     "text": [
      "Help on function load_data in module __main__:\n",
      "\n",
      "load_data(table)\n",
      "\n"
     ]
    }
   ],
   "source": [
    "help(load_data)"
   ]
  },
  {
   "cell_type": "markdown",
   "id": "d8a7f48b-6255-4592-87cf-dd5b4dc488be",
   "metadata": {},
   "source": [
    " Check Data"
   ]
  },
  {
   "cell_type": "code",
   "execution_count": 6,
   "id": "f6c864c9-1280-4d01-9975-a378da3b2a1a",
   "metadata": {},
   "outputs": [
    {
     "data": {
      "text/plain": [
       "pyspark.sql.dataframe.DataFrame"
      ]
     },
     "execution_count": 6,
     "metadata": {},
     "output_type": "execute_result"
    }
   ],
   "source": [
    "type(df)"
   ]
  },
  {
   "cell_type": "code",
   "execution_count": 7,
   "id": "aaf53c7f-d046-4eed-8179-82ff9ddc362d",
   "metadata": {},
   "outputs": [
    {
     "name": "stderr",
     "output_type": "stream",
     "text": [
      "[Stage 0:>                                                          (0 + 1) / 1]\r"
     ]
    },
    {
     "name": "stdout",
     "output_type": "stream",
     "text": [
      "+------+------+------+--------+------------+----------+------+------+--------+-----------+-----------+----------+------------+----------+------+------+--------+--------+----------+--------+--------+--------------+-----------+-----------------+\n",
      "|    id|action| oldid|  source|timemodified|loggeduser|itemid|userid|rawgrade|rawgrademax|rawgrademin|rawscaleid|usermodified|finalgrade|hidden|locked|locktime|exported|overridden|excluded|feedback|feedbackformat|information|informationformat|\n",
      "+------+------+------+--------+------------+----------+------+------+--------+-----------+-----------+----------+------------+----------+------+------+--------+--------+----------+--------+--------+--------------+-----------+-----------------+\n",
      "|221372|     1|107173|mod/quiz|  1468487749|         2| 20565|     3|    null|   10.00000|    0.00000|      null|           3|      null|     0|     0|       0|       0|         0|       0|    null|             0|       null|                0|\n",
      "|221389|     1|107189|mod/quiz|  1470530442|         2| 20560| 39808| 9.00000|   10.00000|    0.00000|      null|       39808|   9.00000|     0|     0|       0|       0|         0|       0|    null|             0|       null|                0|\n",
      "|221405|     1|107204|mod/quiz|  1470541004|         2| 20560| 41751| 8.00000|   10.00000|    0.00000|      null|       41751|   8.00000|     0|     0|       0|       0|         0|       0|    null|             0|       null|                0|\n",
      "|221421|     2|107204|mod/quiz|  1470541101|         2| 20560| 41751|10.00000|   10.00000|    0.00000|      null|       41751|  10.00000|     0|     0|       0|       0|         0|       0|    null|             0|       null|                0|\n",
      "|221422|     1|107219|mod/quiz|  1470543123|         2| 20560| 37384| 8.00000|   10.00000|    0.00000|      null|       37384|   8.00000|     0|     0|       0|       0|         0|       0|    null|             0|       null|                0|\n",
      "+------+------+------+--------+------------+----------+------+------+--------+-----------+-----------+----------+------------+----------+------+------+--------+--------+----------+--------+--------+--------------+-----------+-----------------+\n",
      "only showing top 5 rows\n",
      "\n"
     ]
    },
    {
     "name": "stderr",
     "output_type": "stream",
     "text": [
      "                                                                                \r"
     ]
    }
   ],
   "source": [
    "#show 5 observation in DataFrame\n",
    "df.show(5)"
   ]
  },
  {
   "cell_type": "code",
   "execution_count": 8,
   "id": "824eca89-72a1-4c44-a3d8-1a1f14675b78",
   "metadata": {},
   "outputs": [
    {
     "name": "stdout",
     "output_type": "stream",
     "text": [
      "root\n",
      " |-- id: long (nullable = true)\n",
      " |-- action: long (nullable = true)\n",
      " |-- oldid: long (nullable = true)\n",
      " |-- source: string (nullable = true)\n",
      " |-- timemodified: long (nullable = true)\n",
      " |-- loggeduser: long (nullable = true)\n",
      " |-- itemid: long (nullable = true)\n",
      " |-- userid: long (nullable = true)\n",
      " |-- rawgrade: decimal(10,5) (nullable = true)\n",
      " |-- rawgrademax: decimal(10,5) (nullable = true)\n",
      " |-- rawgrademin: decimal(10,5) (nullable = true)\n",
      " |-- rawscaleid: long (nullable = true)\n",
      " |-- usermodified: long (nullable = true)\n",
      " |-- finalgrade: decimal(10,5) (nullable = true)\n",
      " |-- hidden: long (nullable = true)\n",
      " |-- locked: long (nullable = true)\n",
      " |-- locktime: long (nullable = true)\n",
      " |-- exported: long (nullable = true)\n",
      " |-- overridden: long (nullable = true)\n",
      " |-- excluded: long (nullable = true)\n",
      " |-- feedback: string (nullable = true)\n",
      " |-- feedbackformat: long (nullable = true)\n",
      " |-- information: string (nullable = true)\n",
      " |-- informationformat: long (nullable = true)\n",
      "\n"
     ]
    }
   ],
   "source": [
    "#Print Schema\n",
    "df.printSchema()"
   ]
  },
  {
   "cell_type": "code",
   "execution_count": 9,
   "id": "bfb25d4d-fcfe-45b0-b3a6-ae8043baa9f8",
   "metadata": {},
   "outputs": [
    {
     "data": {
      "text/plain": [
       "(24,\n",
       " ['id',\n",
       "  'action',\n",
       "  'oldid',\n",
       "  'source',\n",
       "  'timemodified',\n",
       "  'loggeduser',\n",
       "  'itemid',\n",
       "  'userid',\n",
       "  'rawgrade',\n",
       "  'rawgrademax',\n",
       "  'rawgrademin',\n",
       "  'rawscaleid',\n",
       "  'usermodified',\n",
       "  'finalgrade',\n",
       "  'hidden',\n",
       "  'locked',\n",
       "  'locktime',\n",
       "  'exported',\n",
       "  'overridden',\n",
       "  'excluded',\n",
       "  'feedback',\n",
       "  'feedbackformat',\n",
       "  'information',\n",
       "  'informationformat'])"
      ]
     },
     "execution_count": 9,
     "metadata": {},
     "output_type": "execute_result"
    }
   ],
   "source": [
    "len(df.columns), df.columns"
   ]
  },
  {
   "cell_type": "code",
   "execution_count": 10,
   "id": "99aeb260-4e22-4a47-8602-154b11c156a1",
   "metadata": {},
   "outputs": [],
   "source": [
    "df = df.drop('rawgrademax','rawgrademin','rawgrade','action','oldid','loggeduser','usermodified','timemodified','rawscaleid', 'hidden',\t'locked',\t'locktime',\t'exported',\t'overridden',\t'excluded',\t'feedback',\t'feedbackformat', 'information',\t'informationformat')"
   ]
  },
  {
   "cell_type": "code",
   "execution_count": 11,
   "id": "9db7e963-5c45-4093-b329-b04a4490b0c1",
   "metadata": {},
   "outputs": [
    {
     "name": "stdout",
     "output_type": "stream",
     "text": [
      "cat_cols: ['source']\n",
      "num_cols: ['id', 'itemid', 'userid', 'finalgrade']\n"
     ]
    }
   ],
   "source": [
    "#Categorical and numerical variable\n",
    "cat_cols = [item[0] for item in df.dtypes if item[1].startswith('string')] #just will select string data type\n",
    "print(\"cat_cols:\", cat_cols)\n",
    "num_cols = [item[0] for item in df.dtypes if item[1].startswith('big') | item[1].startswith('decimal')] #just will select integer or double data type\n",
    "print(\"num_cols:\", num_cols)"
   ]
  },
  {
   "cell_type": "code",
   "execution_count": 12,
   "id": "05eeacda-de5d-4cc2-8141-81fa3a67dd10",
   "metadata": {},
   "outputs": [
    {
     "data": {
      "text/plain": [
       "8692"
      ]
     },
     "execution_count": 12,
     "metadata": {},
     "output_type": "execute_result"
    }
   ],
   "source": [
    "#count number of observation\n",
    "df.count()"
   ]
  },
  {
   "cell_type": "code",
   "execution_count": 13,
   "id": "6a07e6e7-a950-454f-bb79-94d386d014d0",
   "metadata": {},
   "outputs": [
    {
     "name": "stdout",
     "output_type": "stream",
     "text": [
      "+-------+------------------+------------------+------------------+------------------+\n",
      "|summary|                id|            itemid|            userid|        finalgrade|\n",
      "+-------+------------------+------------------+------------------+------------------+\n",
      "|  count|              8692|              8692|              8692|              8659|\n",
      "|   mean| 283417.6446157386|20565.634031293142|27380.096065347447|      14.362166532|\n",
      "| stddev|32297.881991362443|  4.43974027389419|18542.800409869284|20.917569814142563|\n",
      "|    min|            221372|             20560|                 3|           0.00000|\n",
      "|    max|            314561|             20576|             43624|         100.00000|\n",
      "+-------+------------------+------------------+------------------+------------------+\n",
      "\n"
     ]
    }
   ],
   "source": [
    "# Check summary statistic of numerical columns\n",
    "\n",
    "df.select(num_cols).describe().show()"
   ]
  },
  {
   "cell_type": "markdown",
   "id": "da80e1a2-bffd-4ae2-9c05-6e5925acaee8",
   "metadata": {},
   "source": [
    "### Check Missing Value:\n",
    "We are using two metode to check missing values:\n",
    "\n",
    "    1.Using pandas dataframe\n",
    "    2.Using pyspark dataframe"
   ]
  },
  {
   "cell_type": "code",
   "execution_count": 14,
   "id": "c3db9133-27e0-419a-817d-36976418276f",
   "metadata": {},
   "outputs": [],
   "source": [
    "#convert to pandas DataFrame\n",
    "df_pd=df.toPandas()"
   ]
  },
  {
   "cell_type": "code",
   "execution_count": 15,
   "id": "2cc9d05b-5327-4476-b1f4-29f599e92b96",
   "metadata": {},
   "outputs": [
    {
     "data": {
      "text/html": [
       "<div>\n",
       "<style scoped>\n",
       "    .dataframe tbody tr th:only-of-type {\n",
       "        vertical-align: middle;\n",
       "    }\n",
       "\n",
       "    .dataframe tbody tr th {\n",
       "        vertical-align: top;\n",
       "    }\n",
       "\n",
       "    .dataframe thead th {\n",
       "        text-align: right;\n",
       "    }\n",
       "</style>\n",
       "<table border=\"1\" class=\"dataframe\">\n",
       "  <thead>\n",
       "    <tr style=\"text-align: right;\">\n",
       "      <th></th>\n",
       "      <th>id</th>\n",
       "      <th>source</th>\n",
       "      <th>itemid</th>\n",
       "      <th>userid</th>\n",
       "      <th>finalgrade</th>\n",
       "    </tr>\n",
       "  </thead>\n",
       "  <tbody>\n",
       "    <tr>\n",
       "      <th>0</th>\n",
       "      <td>221372</td>\n",
       "      <td>mod/quiz</td>\n",
       "      <td>20565</td>\n",
       "      <td>3</td>\n",
       "      <td>None</td>\n",
       "    </tr>\n",
       "    <tr>\n",
       "      <th>1</th>\n",
       "      <td>221389</td>\n",
       "      <td>mod/quiz</td>\n",
       "      <td>20560</td>\n",
       "      <td>39808</td>\n",
       "      <td>9.00000</td>\n",
       "    </tr>\n",
       "    <tr>\n",
       "      <th>2</th>\n",
       "      <td>221405</td>\n",
       "      <td>mod/quiz</td>\n",
       "      <td>20560</td>\n",
       "      <td>41751</td>\n",
       "      <td>8.00000</td>\n",
       "    </tr>\n",
       "    <tr>\n",
       "      <th>3</th>\n",
       "      <td>221421</td>\n",
       "      <td>mod/quiz</td>\n",
       "      <td>20560</td>\n",
       "      <td>41751</td>\n",
       "      <td>10.00000</td>\n",
       "    </tr>\n",
       "    <tr>\n",
       "      <th>4</th>\n",
       "      <td>221422</td>\n",
       "      <td>mod/quiz</td>\n",
       "      <td>20560</td>\n",
       "      <td>37384</td>\n",
       "      <td>8.00000</td>\n",
       "    </tr>\n",
       "    <tr>\n",
       "      <th>...</th>\n",
       "      <td>...</td>\n",
       "      <td>...</td>\n",
       "      <td>...</td>\n",
       "      <td>...</td>\n",
       "      <td>...</td>\n",
       "    </tr>\n",
       "    <tr>\n",
       "      <th>8687</th>\n",
       "      <td>314546</td>\n",
       "      <td>mod/data</td>\n",
       "      <td>20564</td>\n",
       "      <td>39319</td>\n",
       "      <td>5.00000</td>\n",
       "    </tr>\n",
       "    <tr>\n",
       "      <th>8688</th>\n",
       "      <td>314547</td>\n",
       "      <td>mod/data</td>\n",
       "      <td>20564</td>\n",
       "      <td>39319</td>\n",
       "      <td>4.00000</td>\n",
       "    </tr>\n",
       "    <tr>\n",
       "      <th>8689</th>\n",
       "      <td>314557</td>\n",
       "      <td>mod/quiz</td>\n",
       "      <td>20571</td>\n",
       "      <td>40620</td>\n",
       "      <td>6.00000</td>\n",
       "    </tr>\n",
       "    <tr>\n",
       "      <th>8690</th>\n",
       "      <td>314559</td>\n",
       "      <td>mod/quiz</td>\n",
       "      <td>20571</td>\n",
       "      <td>40620</td>\n",
       "      <td>7.00000</td>\n",
       "    </tr>\n",
       "    <tr>\n",
       "      <th>8691</th>\n",
       "      <td>314561</td>\n",
       "      <td>mod/quiz</td>\n",
       "      <td>20571</td>\n",
       "      <td>40620</td>\n",
       "      <td>8.00000</td>\n",
       "    </tr>\n",
       "  </tbody>\n",
       "</table>\n",
       "<p>8692 rows × 5 columns</p>\n",
       "</div>"
      ],
      "text/plain": [
       "          id    source  itemid  userid finalgrade\n",
       "0     221372  mod/quiz   20565       3       None\n",
       "1     221389  mod/quiz   20560   39808    9.00000\n",
       "2     221405  mod/quiz   20560   41751    8.00000\n",
       "3     221421  mod/quiz   20560   41751   10.00000\n",
       "4     221422  mod/quiz   20560   37384    8.00000\n",
       "...      ...       ...     ...     ...        ...\n",
       "8687  314546  mod/data   20564   39319    5.00000\n",
       "8688  314547  mod/data   20564   39319    4.00000\n",
       "8689  314557  mod/quiz   20571   40620    6.00000\n",
       "8690  314559  mod/quiz   20571   40620    7.00000\n",
       "8691  314561  mod/quiz   20571   40620    8.00000\n",
       "\n",
       "[8692 rows x 5 columns]"
      ]
     },
     "execution_count": 15,
     "metadata": {},
     "output_type": "execute_result"
    }
   ],
   "source": [
    "df_pd"
   ]
  },
  {
   "cell_type": "code",
   "execution_count": 16,
   "id": "d2607268-7d95-4617-9768-307fc239d54e",
   "metadata": {},
   "outputs": [],
   "source": [
    "def missing_values_table(df_pd):\n",
    "    \"\"\"Input pandas dataframe and Return columns with missing value&percentage and stored as pandas dataframe\"\"\"\n",
    "    mis_val = df_pd.isnull().sum() #count total of null in each columns in dataframe\n",
    "    mis_val_percent = 100 * df_pd.isnull().sum() / len(df_pd) #count percentage of null in each columns\n",
    "    mis_val_table = pd.concat([mis_val, mis_val_percent], axis=1)  #join to left (as column) between mis_val and mis_val_percent and create it as dataframe\n",
    "    mis_val_table_ren_columns = mis_val_table.rename(\n",
    "    columns = {0 : 'Missing Values', 1 : '% of Total Values'}) #rename columns in table, mis_val to Missing Values and mis_val_percent to % of Total Values\n",
    "    mis_val_table_ren_columns = mis_val_table_ren_columns[\n",
    "    mis_val_table_ren_columns.iloc[:,1] != 0].sort_values(\n",
    "    '% of Total Values', ascending=False).round(1)         #sort column % of Total Values descending and round 1 after point(coma)\n",
    "    print (\"Your selected dataframe has \" + str(df_pd.shape[1]) + \" columns.\\n\"    #.shape[1] : just view total columns in dataframe  \n",
    "    \"There are \" + str(mis_val_table_ren_columns.shape[0]) +              \n",
    "    \" columns that have missing values.\") #.shape[0] : just view total rows in dataframe\n",
    "    return mis_val_table_ren_columns"
   ]
  },
  {
   "cell_type": "code",
   "execution_count": 17,
   "id": "200ed07f-e197-496c-8ff6-80858bc66eb9",
   "metadata": {},
   "outputs": [
    {
     "name": "stdout",
     "output_type": "stream",
     "text": [
      "Your selected dataframe has 5 columns.\n",
      "There are 2 columns that have missing values.\n"
     ]
    },
    {
     "data": {
      "text/html": [
       "<div>\n",
       "<style scoped>\n",
       "    .dataframe tbody tr th:only-of-type {\n",
       "        vertical-align: middle;\n",
       "    }\n",
       "\n",
       "    .dataframe tbody tr th {\n",
       "        vertical-align: top;\n",
       "    }\n",
       "\n",
       "    .dataframe thead th {\n",
       "        text-align: right;\n",
       "    }\n",
       "</style>\n",
       "<table border=\"1\" class=\"dataframe\">\n",
       "  <thead>\n",
       "    <tr style=\"text-align: right;\">\n",
       "      <th></th>\n",
       "      <th>Missing Values</th>\n",
       "      <th>% of Total Values</th>\n",
       "    </tr>\n",
       "  </thead>\n",
       "  <tbody>\n",
       "    <tr>\n",
       "      <th>source</th>\n",
       "      <td>352</td>\n",
       "      <td>4.0</td>\n",
       "    </tr>\n",
       "    <tr>\n",
       "      <th>finalgrade</th>\n",
       "      <td>33</td>\n",
       "      <td>0.4</td>\n",
       "    </tr>\n",
       "  </tbody>\n",
       "</table>\n",
       "</div>"
      ],
      "text/plain": [
       "            Missing Values  % of Total Values\n",
       "source                 352                4.0\n",
       "finalgrade              33                0.4"
      ]
     },
     "execution_count": 17,
     "metadata": {},
     "output_type": "execute_result"
    }
   ],
   "source": [
    "missing_values_table(df_pd)"
   ]
  },
  {
   "cell_type": "code",
   "execution_count": 18,
   "id": "d6c8deba-8e36-4e5b-9964-cf2063e2e832",
   "metadata": {},
   "outputs": [],
   "source": [
    "#Check Missing Value in Pyspark Dataframe\n",
    "def count_nulls(df_final):\n",
    "    \"\"\"Input pyspark dataframe and return list of columns with missing value and it's total value\"\"\"\n",
    "    null_counts = []          #make an empty list to hold our results\n",
    "    for col in df.dtypes:     #iterate through the column data types we saw above, ex ('C0', 'bigint')\n",
    "        cname = col[0]        #splits out the column name, ex 'C0'    \n",
    "        ctype = col[1]        #splits out the column type, ex 'bigint'\n",
    "        nulls = df.where( df[cname].isNull() ).count() #check count of null in column name\n",
    "        result = tuple([cname, nulls])  #new tuple, (column name, null count)\n",
    "        null_counts.append(result)      #put the new tuple in our result list\n",
    "    null_counts=[(x,y) for (x,y) in null_counts if y!=0]  #view just columns that have missing values\n",
    "    return null_counts"
   ]
  },
  {
   "cell_type": "code",
   "execution_count": 19,
   "id": "cf689eda-5fe6-4edc-a3d8-84c8f99b346e",
   "metadata": {},
   "outputs": [
    {
     "data": {
      "text/plain": [
       "[('source', 352), ('finalgrade', 33)]"
      ]
     },
     "execution_count": 19,
     "metadata": {},
     "output_type": "execute_result"
    }
   ],
   "source": [
    "null_counts = count_nulls(df)\n",
    "null_counts"
   ]
  },
  {
   "cell_type": "code",
   "execution_count": 20,
   "id": "404a2559-3f00-4ca1-b18e-2e2ba691db01",
   "metadata": {},
   "outputs": [
    {
     "data": {
      "text/plain": [
       "['source', 'finalgrade']"
      ]
     },
     "execution_count": 20,
     "metadata": {},
     "output_type": "execute_result"
    }
   ],
   "source": [
    "list_cols_miss=[x[0] for x in null_counts]\n",
    "list_cols_miss"
   ]
  },
  {
   "cell_type": "code",
   "execution_count": 21,
   "id": "0f334098-cf65-4681-a349-1e3750f4238d",
   "metadata": {},
   "outputs": [
    {
     "data": {
      "text/plain": [
       "[('source', 'string'), ('finalgrade', 'decimal(10,5)')]"
      ]
     },
     "execution_count": 21,
     "metadata": {},
     "output_type": "execute_result"
    }
   ],
   "source": [
    "#Create dataframe which just has list_cols_miss\n",
    "df_miss= df.select(*list_cols_miss)\n",
    "df_miss.dtypes"
   ]
  },
  {
   "cell_type": "code",
   "execution_count": 22,
   "id": "bc6679bc-064e-44f6-ac5b-2ed867d7b131",
   "metadata": {},
   "outputs": [
    {
     "name": "stdout",
     "output_type": "stream",
     "text": [
      "catcolums_miss: ['source']\n",
      "numcolumns_miss: ['finalgrade']\n"
     ]
    }
   ],
   "source": [
    "#Define categorical columns and numerical columns which have missing value.\n",
    "### for categorical columns\n",
    "catcolums_miss=[item[0] for item in df_miss.dtypes if item[1].startswith('string')]  #will select name of column with string data type\n",
    "print(\"catcolums_miss:\", catcolums_miss)\n",
    "\n",
    "### for numerical columns\n",
    "numcolumns_miss = [item[0] for item in df_miss.dtypes if item[1].startswith('big') | item[1].startswith('decimal')] #will select name of column with integer or double data type\n",
    "print(\"numcolumns_miss:\", numcolumns_miss)"
   ]
  },
  {
   "cell_type": "code",
   "execution_count": 23,
   "id": "799df008-c21d-46d7-81a5-ccde6dc753ff",
   "metadata": {},
   "outputs": [],
   "source": [
    "#Handle Missing Values\n",
    "#Drop missing value\n",
    "df_Nomiss=df.na.drop()"
   ]
  },
  {
   "cell_type": "code",
   "execution_count": 24,
   "id": "02bacd79-38a6-4d27-93a1-651c290cc865",
   "metadata": {},
   "outputs": [
    {
     "data": {
      "text/plain": [
       "DataFrame[id: bigint, source: string, itemid: bigint, userid: bigint, finalgrade: decimal(10,5)]"
      ]
     },
     "execution_count": 24,
     "metadata": {},
     "output_type": "execute_result"
    }
   ],
   "source": [
    "df_Nomiss"
   ]
  },
  {
   "cell_type": "code",
   "execution_count": 25,
   "id": "b0a3dc37-5415-46c6-90d6-e02b2ae41fa5",
   "metadata": {},
   "outputs": [
    {
     "name": "stderr",
     "output_type": "stream",
     "text": [
      "                                                                                \r"
     ]
    },
    {
     "name": "stdout",
     "output_type": "stream",
     "text": [
      "source mod/quiz\n"
     ]
    }
   ],
   "source": [
    "#fill missing value in categorical variable with most frequent\n",
    "for x in catcolums_miss:\n",
    "    mode=df_Nomiss.groupBy(x).count().sort(col(\"count\").desc()).collect()[0][0] #group by based on categories and count each categories and sort descending then take the first value in column\n",
    "    print(x, mode) #print name of columns and it's most categories \n",
    "    df = df.na.fill({x:mode}) #fill missing value in each columns with most frequent"
   ]
  },
  {
   "cell_type": "code",
   "execution_count": 26,
   "id": "c21135eb-7170-44b8-b6ee-4eeb34d9b715",
   "metadata": {},
   "outputs": [
    {
     "name": "stdout",
     "output_type": "stream",
     "text": [
      "finalgrade 14.36217\n"
     ]
    }
   ],
   "source": [
    "#fill missing value in numerical variable with average\n",
    "for i in numcolumns_miss:\n",
    "    meanvalue = df.select(round(mean(i),5)).collect()[0][0] #calculate average in each numerical column\n",
    "    print(i, meanvalue) #print name of columns and it's average value\n",
    "    df=df.na.fill({i:int(meanvalue)}) #fill missing value in each columns with it's average value"
   ]
  },
  {
   "cell_type": "code",
   "execution_count": 27,
   "id": "5047c944-0f4a-4f02-823b-35adbfb0f9a5",
   "metadata": {},
   "outputs": [
    {
     "data": {
      "text/plain": [
       "[]"
      ]
     },
     "execution_count": 27,
     "metadata": {},
     "output_type": "execute_result"
    }
   ],
   "source": [
    "#Check Missing value after filling\n",
    "null_counts = count_nulls(df)\n",
    "null_counts"
   ]
  },
  {
   "cell_type": "markdown",
   "id": "2795eb53-6bee-429f-bbe9-aea42c229739",
   "metadata": {},
   "source": [
    "# EDA\n",
    "## convert spark dataframe to pandas for visualization"
   ]
  },
  {
   "cell_type": "code",
   "execution_count": 28,
   "id": "492e4691-6aaa-43de-a0f2-ee762bf3e2eb",
   "metadata": {},
   "outputs": [],
   "source": [
    "df_pd2=df.toPandas()"
   ]
  },
  {
   "cell_type": "code",
   "execution_count": 29,
   "id": "21b49910-ae1e-4552-b0ec-5277d188164f",
   "metadata": {},
   "outputs": [
    {
     "data": {
      "image/png": "[encoded data removed]",
      "text/plain": [
       "<Figure size 1440x720 with 1 Axes>"
      ]
     },
     "metadata": {
      "needs_background": "light"
     },
     "output_type": "display_data"
    }
   ],
   "source": [
    "plt.figure(figsize=(20,10))\n",
    "plt.subplot(221)\n",
    "sns.countplot(x='source', data=df_pd2, order=df_pd['source'].value_counts().index)\n",
    "plt.show()"
   ]
  },
  {
   "cell_type": "code",
   "execution_count": 30,
   "id": "e51352b1-8011-4cfb-9b20-da2c9d0e5249",
   "metadata": {},
   "outputs": [
    {
     "name": "stderr",
     "output_type": "stream",
     "text": [
      "/home/abdelilah/miniconda3/envs/py39/lib/python3.9/site-packages/seaborn/distributions.py:2619: FutureWarning: `distplot` is a deprecated function and will be removed in a future version. Please adapt your code to use either `displot` (a figure-level function with similar flexibility) or `histplot` (an axes-level function for histograms).\n",
      "  warnings.warn(msg, FutureWarning)\n"
     ]
    },
    {
     "data": {
      "image/png": "[encoded data removed]",
      "text/plain": [
       "<Figure size 432x288 with 1 Axes>"
      ]
     },
     "metadata": {
      "needs_background": "light"
     },
     "output_type": "display_data"
    }
   ],
   "source": [
    "#density plot finalgrade\n",
    "sns.distplot(df_pd2['finalgrade'])\n",
    "plt.show()\n"
   ]
  },
  {
   "cell_type": "code",
   "execution_count": 31,
   "id": "1a373f69-a763-4d5a-bf5d-a8f265625a57",
   "metadata": {},
   "outputs": [
    {
     "name": "stderr",
     "output_type": "stream",
     "text": [
      "/home/abdelilah/miniconda3/envs/py39/lib/python3.9/site-packages/seaborn/distributions.py:2619: FutureWarning: `distplot` is a deprecated function and will be removed in a future version. Please adapt your code to use either `displot` (a figure-level function with similar flexibility) or `histplot` (an axes-level function for histograms).\n",
      "  warnings.warn(msg, FutureWarning)\n"
     ]
    },
    {
     "data": {
      "image/png": "[encoded data removed]",
      "text/plain": [
       "<Figure size 1440x360 with 1 Axes>"
      ]
     },
     "metadata": {
      "needs_background": "light"
     },
     "output_type": "display_data"
    }
   ],
   "source": [
    "#density plot itemid \n",
    "plt.figure(figsize=(20,5))\n",
    "sns.distplot(df_pd2['itemid'])\n",
    "plt.show()"
   ]
  },
  {
   "cell_type": "markdown",
   "id": "a86d94cb-94f8-46a0-ba4c-443fb97c5a41",
   "metadata": {},
   "source": [
    "## Check outlier"
   ]
  },
  {
   "cell_type": "code",
   "execution_count": 32,
   "id": "480702df-e180-4f99-95a6-e87b1394d0a9",
   "metadata": {},
   "outputs": [
    {
     "data": {
      "image/png": "[encoded data removed]",
      "text/plain": [
       "<Figure size 432x288 with 1 Axes>"
      ]
     },
     "metadata": {
      "needs_background": "light"
     },
     "output_type": "display_data"
    }
   ],
   "source": [
    "#Check outlier in numerical variable: 'finalgrade'\n",
    "df_pd2.finalgrade = df_pd2.finalgrade.astype(float)\n",
    "sns.boxplot(y='itemid',data=df_pd2)\n",
    "plt.show()"
   ]
  },
  {
   "cell_type": "code",
   "execution_count": 34,
   "id": "16f1d1d3-8b1f-4828-aeb2-80a1b3250769",
   "metadata": {},
   "outputs": [
    {
     "data": {
      "image/png": "[encoded data removed]",
      "text/plain": [
       "<Figure size 432x288 with 1 Axes>"
      ]
     },
     "metadata": {
      "needs_background": "light"
     },
     "output_type": "display_data"
    }
   ],
   "source": [
    "#Check outlier in numerical variable: 'source'\n",
    "df_pd2.finalgrade = df_pd2.finalgrade.astype(float)\n",
    "sns.boxplot(y='finalgrade',data=df_pd2)\n",
    "plt.show()"
   ]
  },
  {
   "cell_type": "markdown",
   "id": "be6546a1-4162-451a-976d-f5c8bfbf857a",
   "metadata": {},
   "source": [
    "## Feature Engineering"
   ]
  },
  {
   "cell_type": "markdown",
   "id": "f6ce68a9-9155-4055-980c-56415bc01532",
   "metadata": {},
   "source": [
    "##### Before splitting the data train, all categorical variables must be made numerical. There are several approaches to categorical variables in SparkML, including:\n",
    "\n",
    "##### 1. StringIndexer, which is to encode the string label into the index label by sequencing the string frequency descending and giving the smallest index (0) at most string frequency.\n",
    "##### 2. One-hot Encoding, which is mapping the label column (string label) on the binary column.\n",
    "##### 3. Vector assembler, which is mapping all columns in vector."
   ]
  },
  {
   "cell_type": "code",
   "execution_count": 35,
   "id": "86aba83f-16e6-417b-80e6-a08962228800",
   "metadata": {},
   "outputs": [
    {
     "name": "stdout",
     "output_type": "stream",
     "text": [
      "root\n",
      " |-- id: long (nullable = true)\n",
      " |-- source: string (nullable = false)\n",
      " |-- itemid: long (nullable = true)\n",
      " |-- userid: long (nullable = true)\n",
      " |-- finalgrade: decimal(10,5) (nullable = true)\n",
      "\n"
     ]
    }
   ],
   "source": [
    "df.printSchema()"
   ]
  },
  {
   "cell_type": "code",
   "execution_count": 36,
   "id": "555b84c9-f039-4d3e-bfbc-eb437094356a",
   "metadata": {},
   "outputs": [
    {
     "data": {
      "text/plain": [
       "['source_vec']"
      ]
     },
     "execution_count": 36,
     "metadata": {},
     "output_type": "execute_result"
    }
   ],
   "source": [
    "# define columns name for string indexer and one hot encoder processing\n",
    "cat_columns_string_vec = []\n",
    "for c in cat_cols:\n",
    "    cat_columns_string= c+\"_vec\"\n",
    "    cat_columns_string_vec.append(cat_columns_string)\n",
    "\n",
    "cat_columns_string_vec"
   ]
  },
  {
   "cell_type": "code",
   "execution_count": 37,
   "id": "19545f50-8ae8-4067-bdba-8d3aa3f02e5e",
   "metadata": {},
   "outputs": [],
   "source": [
    "#create index for categorical variables with stringIndexer   \n",
    "stringIndexer = [StringIndexer(inputCol=x, outputCol=x+\"_Index\")\n",
    "                  for x in cat_cols]\n",
    "#use oneHotEncoder to convert categorical variable to binary\n",
    "encoder = [OneHotEncoder(inputCol=x+\"_Index\", outputCol=y)\n",
    "           for x,y in zip(cat_cols, cat_columns_string_vec)]\n",
    "tmp = [[i,j] for i,j in zip(stringIndexer, encoder)]\n",
    "tmp = [i for sublist in tmp for i in sublist]"
   ]
  },
  {
   "cell_type": "code",
   "execution_count": 38,
   "id": "bb9b72d5-a9d8-43b7-848d-1de6a0c923be",
   "metadata": {},
   "outputs": [
    {
     "data": {
      "text/plain": [
       "['id', 'itemid', 'userid', 'finalgrade', 'source_vec']"
      ]
     },
     "execution_count": 38,
     "metadata": {},
     "output_type": "execute_result"
    }
   ],
   "source": [
    "#define columns for vector assembler processing\n",
    "cols_assember=num_cols + cat_columns_string_vec\n",
    "cols_assember"
   ]
  },
  {
   "cell_type": "code",
   "execution_count": 39,
   "id": "92538762-d93b-4212-bad8-6a4a9de3c783",
   "metadata": {},
   "outputs": [],
   "source": [
    "#create vector assembler from cols_assember\n",
    "assembler=VectorAssembler(inputCols=cols_assember, outputCol='features')\n",
    "tmp += [assembler]\n",
    "\n",
    "#create pipeline for stringIndexer, oneHotEncoder and vectorassembler\n",
    "pipeline=Pipeline(stages=tmp)"
   ]
  },
  {
   "cell_type": "code",
   "execution_count": 40,
   "id": "ab22e5d2-a0d9-49e5-8188-aa9a28a9b729",
   "metadata": {},
   "outputs": [
    {
     "name": "stderr",
     "output_type": "stream",
     "text": [
      "                                                                                \r"
     ]
    }
   ],
   "source": [
    "#fit and transform pipeline to dataframe\n",
    "df_final = pipeline.fit(df).transform(df)"
   ]
  },
  {
   "cell_type": "code",
   "execution_count": 41,
   "id": "4bd1a585-5cf9-4590-b75f-165d0901182d",
   "metadata": {},
   "outputs": [
    {
     "name": "stdout",
     "output_type": "stream",
     "text": [
      "+------+--------+------+------+----------+------------+-------------+--------------------+\n",
      "|    id|  source|itemid|userid|finalgrade|source_Index|   source_vec|            features|\n",
      "+------+--------+------+------+----------+------------+-------------+--------------------+\n",
      "|221372|mod/quiz| 20565|     3|  14.00000|         0.0|(5,[0],[1.0])|[221372.0,20565.0...|\n",
      "|221389|mod/quiz| 20560| 39808|   9.00000|         0.0|(5,[0],[1.0])|[221389.0,20560.0...|\n",
      "|221405|mod/quiz| 20560| 41751|   8.00000|         0.0|(5,[0],[1.0])|[221405.0,20560.0...|\n",
      "|221421|mod/quiz| 20560| 41751|  10.00000|         0.0|(5,[0],[1.0])|[221421.0,20560.0...|\n",
      "+------+--------+------+------+----------+------------+-------------+--------------------+\n",
      "only showing top 4 rows\n",
      "\n"
     ]
    }
   ],
   "source": [
    "df_final.show(4)"
   ]
  },
  {
   "cell_type": "code",
   "execution_count": 42,
   "id": "c148416d-5350-4d00-8b81-9c616a0fac0f",
   "metadata": {},
   "outputs": [],
   "source": [
    "#create model scaler for normalization\n",
    "scaler = StandardScaler(inputCol=\"features\", outputCol=\"scaledFeatures\", withStd=True, withMean=False)"
   ]
  },
  {
   "cell_type": "code",
   "execution_count": 43,
   "id": "bc78196d-7245-46a7-b2eb-eb5708887c47",
   "metadata": {},
   "outputs": [
    {
     "name": "stderr",
     "output_type": "stream",
     "text": [
      "                                                                                \r"
     ]
    }
   ],
   "source": [
    "#Compute ScalerModel by fitting the StandardScaler\n",
    "scalerModel = scaler.fit(df_final)"
   ]
  },
  {
   "cell_type": "code",
   "execution_count": 44,
   "id": "94f2db37-5333-4615-9415-c4ebc27ee73c",
   "metadata": {},
   "outputs": [
    {
     "name": "stdout",
     "output_type": "stream",
     "text": [
      "+------+--------------------+\n",
      "|    Id|      scaledFeatures|\n",
      "+------+--------------------+\n",
      "|221372|[6.85407173322394...|\n",
      "|221389|[6.85459808352779...|\n",
      "|221405|[6.85509347204907...|\n",
      "|221421|[6.85558886057034...|\n",
      "|221422|[6.85561982235292...|\n",
      "|221438|[6.85611521087420...|\n",
      "|221439|[6.85614617265678...|\n",
      "|221455|[6.85664156117805...|\n",
      "|221456|[6.85667252296063...|\n",
      "|221457|[6.85670348474321...|\n",
      "|221473|[6.85719887326448...|\n",
      "|221489|[6.85769426178576...|\n",
      "|221505|[6.85818965030703...|\n",
      "|221521|[6.85868503882831...|\n",
      "|221537|[6.85918042734958...|\n",
      "|221538|[6.85921138913216...|\n",
      "|221554|[6.85970677765344...|\n",
      "|221570|[6.86020216617471...|\n",
      "|221586|[6.86069755469599...|\n",
      "|221602|[6.86119294321726...|\n",
      "+------+--------------------+\n",
      "only showing top 20 rows\n",
      "\n"
     ]
    }
   ],
   "source": [
    "# Normalize each features to have unit standard deviation.\n",
    "cluster_final_data = scalerModel.transform(df_final).select('Id', 'scaledFeatures')\n",
    "cluster_final_data.show()"
   ]
  },
  {
   "cell_type": "markdown",
   "id": "523a3c0b-aa1b-4b73-8587-a69602226b08",
   "metadata": {},
   "source": [
    "## Modelling K-Mean\n"
   ]
  },
  {
   "cell_type": "markdown",
   "id": "2bed38bd-bdca-4640-9a44-9c9b16489979",
   "metadata": {},
   "source": [
    "#### Optimize choice of k"
   ]
  },
  {
   "cell_type": "code",
   "execution_count": 45,
   "id": "450313ca-3611-40f6-bf4a-f4eb89304934",
   "metadata": {},
   "outputs": [
    {
     "name": "stderr",
     "output_type": "stream",
     "text": [
      "22/06/11 17:10:35 WARN BLAS: Failed to load implementation from: com.github.fommil.netlib.NativeSystemBLAS\n",
      "22/06/11 17:10:35 WARN BLAS: Failed to load implementation from: com.github.fommil.netlib.NativeRefBLAS\n",
      "                                                                                \r"
     ]
    }
   ],
   "source": [
    "from pyspark.ml.evaluation import ClusteringEvaluator\n",
    "#Compute cost function\n",
    "cost= np.zeros(20)\n",
    "for k in range(2,20):\n",
    "    kmeans = KMeans().setK(k).setSeed(1).setFeaturesCol(\"features\")\n",
    "    model = kmeans.fit(df_final)\n",
    "    cost[k] = model.summary.trainingCost\n",
    "    #predictions = model.transform(df_final)\n",
    "    #evaluator = ClusteringEvaluator()\n",
    "    #cost[k] = evaluator.evaluate(predictions)"
   ]
  },
  {
   "cell_type": "code",
   "execution_count": 46,
   "id": "1882ab72-877d-4fed-a480-96cf6f71ba28",
   "metadata": {},
   "outputs": [
    {
     "data": {
      "text/plain": [
       "array([0.00000000e+00, 0.00000000e+00, 2.96801976e+12, 7.13472940e+11,\n",
       "       5.87714660e+11, 4.54376338e+11, 3.42006016e+11, 3.18106406e+11,\n",
       "       2.21517791e+11, 1.86638360e+11, 1.70054930e+11, 1.64483114e+11,\n",
       "       1.49687586e+11, 1.35583032e+11, 1.19704351e+11, 1.04321530e+11,\n",
       "       1.10966198e+11, 1.03632986e+11, 8.18917177e+10, 8.09583902e+10])"
      ]
     },
     "execution_count": 46,
     "metadata": {},
     "output_type": "execute_result"
    }
   ],
   "source": [
    "cost"
   ]
  },
  {
   "cell_type": "code",
   "execution_count": 47,
   "id": "bd91cd46-69eb-4047-9617-e3b52e7d0468",
   "metadata": {},
   "outputs": [
    {
     "data": {
      "image/png": "[encoded data removed]",
      "text/plain": [
       "<Figure size 720x504 with 1 Axes>"
      ]
     },
     "metadata": {
      "needs_background": "light"
     },
     "output_type": "display_data"
    }
   ],
   "source": [
    "#Plot the cost\n",
    "fig, ax = plt.subplots(1,1, figsize=(10,7))\n",
    "ax.plot(range(2,20), cost[2:20])\n",
    "ax.set_xlabel('k')\n",
    "ax.set_ylabel('cost')\n",
    "plt.show()"
   ]
  },
  {
   "cell_type": "code",
   "execution_count": 48,
   "id": "20b95d2b-c519-44a8-9724-0f0da0d85fa4",
   "metadata": {},
   "outputs": [
    {
     "name": "stderr",
     "output_type": "stream",
     "text": [
      "[Stage 705:=======================================>             (149 + 1) / 200]\r"
     ]
    },
    {
     "name": "stdout",
     "output_type": "stream",
     "text": [
      "Cluster Centers: \n",
      "[3.04432957e+05 2.05667525e+04 3.97064090e+04 7.69781830e+00\n",
      " 8.96776294e-01 0.00000000e+00 6.41484858e-02 2.99576685e-02\n",
      " 7.81504396e-03]\n",
      "[3.07789013e+05 2.05692865e+04 3.80212709e+02 3.01339422e+01\n",
      " 7.53424658e-02 9.07153729e-01 5.70776256e-03 0.00000000e+00\n",
      " 1.17960426e-02]\n",
      "[2.42184995e+05 2.05616983e+04 4.02113599e+04 7.91337209e+00\n",
      " 9.29069767e-01 0.00000000e+00 5.81395349e-02 1.10465116e-02\n",
      " 1.74418605e-03]\n",
      "[2.72201821e+05 2.05626046e+04 3.63194449e+04 2.75285171e+00\n",
      " 1.00000000e+00 0.00000000e+00 0.00000000e+00 0.00000000e+00\n",
      " 0.00000000e+00]\n",
      "[2.29243328e+05 2.05602208e+04 3.59749119e+04 7.58118812e+00\n",
      " 8.90099010e-01 0.00000000e+00 1.08910891e-01 0.00000000e+00\n",
      " 9.90099010e-04]\n"
     ]
    },
    {
     "name": "stderr",
     "output_type": "stream",
     "text": [
      "                                                                                \r"
     ]
    }
   ],
   "source": [
    "#Create model KMeans with K=5\n",
    "#kmeans2 = KMeans(featuresCol='scaledFeatures',k=2).setSeed(1)\n",
    "\n",
    "k = 5\n",
    "kmeans = KMeans().setK(k).setSeed(1).setFeaturesCol(\"features\")\n",
    "model = kmeans.fit(df_final)\n",
    "centers = model.clusterCenters()\n",
    "\n",
    "print(\"Cluster Centers: \")\n",
    "for center in centers:\n",
    "    print(center)"
   ]
  },
  {
   "cell_type": "code",
   "execution_count": 49,
   "id": "0c9cb631-52c7-40d6-800f-84fd2fa95ab4",
   "metadata": {},
   "outputs": [],
   "source": [
    "#transfrom model to dataset\n",
    "test=model.transform(df_final)"
   ]
  },
  {
   "cell_type": "code",
   "execution_count": 50,
   "id": "434bd92c-4fb3-4019-95ee-d6d31919ffcb",
   "metadata": {},
   "outputs": [
    {
     "data": {
      "text/plain": [
       "pyspark.sql.dataframe.DataFrame"
      ]
     },
     "execution_count": 50,
     "metadata": {},
     "output_type": "execute_result"
    }
   ],
   "source": [
    "type(test)"
   ]
  },
  {
   "cell_type": "code",
   "execution_count": 51,
   "id": "bf113177-5b59-4ddb-9601-868f7275cac8",
   "metadata": {},
   "outputs": [
    {
     "name": "stdout",
     "output_type": "stream",
     "text": [
      "+------+--------+------+------+----------+------------+-------------+--------------------+----------+\n",
      "|    id|  source|itemid|userid|finalgrade|source_Index|   source_vec|            features|prediction|\n",
      "+------+--------+------+------+----------+------------+-------------+--------------------+----------+\n",
      "|221372|mod/quiz| 20565|     3|  14.00000|         0.0|(5,[0],[1.0])|[221372.0,20565.0...|         4|\n",
      "|221389|mod/quiz| 20560| 39808|   9.00000|         0.0|(5,[0],[1.0])|[221389.0,20560.0...|         4|\n",
      "|221405|mod/quiz| 20560| 41751|   8.00000|         0.0|(5,[0],[1.0])|[221405.0,20560.0...|         4|\n",
      "|221421|mod/quiz| 20560| 41751|  10.00000|         0.0|(5,[0],[1.0])|[221421.0,20560.0...|         4|\n",
      "+------+--------+------+------+----------+------------+-------------+--------------------+----------+\n",
      "only showing top 4 rows\n",
      "\n"
     ]
    }
   ],
   "source": [
    "test.show(4)"
   ]
  },
  {
   "cell_type": "code",
   "execution_count": 52,
   "id": "212197dc-d7f9-4f8b-8482-651b0a9bc62c",
   "metadata": {},
   "outputs": [],
   "source": [
    "#Assign cluster to the event in data\n",
    "prediction= model.transform(df_final).select(*num_cols,*cat_cols, 'prediction').collect()\n",
    "\n",
    "#create dataframe \n",
    "prediction=spark.createDataFrame(prediction)"
   ]
  },
  {
   "cell_type": "code",
   "execution_count": 53,
   "id": "c6a5ee0c-d195-4e94-8d50-d392ffe79aa4",
   "metadata": {},
   "outputs": [
    {
     "name": "stderr",
     "output_type": "stream",
     "text": [
      "[Stage 708:>                                                        (0 + 1) / 1]\r"
     ]
    },
    {
     "name": "stdout",
     "output_type": "stream",
     "text": [
      "+------+------+------+--------------------+--------+----------+\n",
      "|    id|itemid|userid|          finalgrade|  source|prediction|\n",
      "+------+------+------+--------------------+--------+----------+\n",
      "|221372| 20565|     3|14.00000000000000...|mod/quiz|         4|\n",
      "|221389| 20560| 39808|9.000000000000000000|mod/quiz|         4|\n",
      "|221405| 20560| 41751|8.000000000000000000|mod/quiz|         4|\n",
      "|221421| 20560| 41751|10.00000000000000...|mod/quiz|         4|\n",
      "|221422| 20560| 37384|8.000000000000000000|mod/quiz|         4|\n",
      "|221438| 20560| 37384|10.00000000000000...|mod/quiz|         4|\n",
      "|221439| 20560|  4977|6.000000000000000000|mod/quiz|         4|\n",
      "|221455| 20560|  4977|8.000000000000000000|mod/quiz|         4|\n",
      "|221456| 20560|  4977|10.00000000000000...|mod/quiz|         4|\n",
      "|221457| 20560| 39304|10.00000000000000...|mod/quiz|         4|\n",
      "|221473| 20560| 41618|9.000000000000000000|mod/quiz|         4|\n",
      "|221489| 20560| 41885|8.000000000000000000|mod/quiz|         4|\n",
      "|221505| 20560| 39904|7.000000000000000000|mod/quiz|         4|\n",
      "|221521| 20560| 39901|9.000000000000000000|mod/quiz|         4|\n",
      "|221537| 20560| 39901|10.00000000000000...|mod/quiz|         4|\n",
      "|221538| 20560| 41914|9.000000000000000000|mod/quiz|         4|\n",
      "|221554| 20560| 28877|10.00000000000000...|mod/quiz|         4|\n",
      "|221570| 20560| 40314|6.000000000000000000|mod/quiz|         4|\n",
      "|221586| 20560| 40088|6.000000000000000000|mod/quiz|         4|\n",
      "|221602| 20560| 40088|8.000000000000000000|mod/quiz|         4|\n",
      "+------+------+------+--------------------+--------+----------+\n",
      "only showing top 20 rows\n",
      "\n"
     ]
    },
    {
     "name": "stderr",
     "output_type": "stream",
     "text": [
      "                                                                                \r"
     ]
    }
   ],
   "source": [
    "prediction.show()"
   ]
  },
  {
   "cell_type": "code",
   "execution_count": 54,
   "id": "915eb936-d82f-4641-bda7-1425bbc829d6",
   "metadata": {},
   "outputs": [
    {
     "name": "stderr",
     "output_type": "stream",
     "text": [
      "[Stage 710:====================================================>(198 + 1) / 200]\r"
     ]
    },
    {
     "name": "stdout",
     "output_type": "stream",
     "text": [
      "+----------+-----+\n",
      "|prediction|count|\n",
      "+----------+-----+\n",
      "|         0| 3071|\n",
      "|         1| 2628|\n",
      "|         2| 1720|\n",
      "|         3|  263|\n",
      "|         4| 1010|\n",
      "+----------+-----+\n",
      "\n"
     ]
    },
    {
     "name": "stderr",
     "output_type": "stream",
     "text": [
      "                                                                                \r"
     ]
    }
   ],
   "source": [
    "#grouping by our prediction of cluster\n",
    "prediction.groupBy('prediction').count().sort(col('prediction')).show()"
   ]
  },
  {
   "cell_type": "code",
   "execution_count": 55,
   "id": "1a564e9d-3afe-4903-91f6-13cb3c708364",
   "metadata": {},
   "outputs": [
    {
     "name": "stderr",
     "output_type": "stream",
     "text": [
      "                                                                                \r"
     ]
    },
    {
     "name": "stdout",
     "output_type": "stream",
     "text": [
      "+----------+--------------------+\n",
      "|prediction|     avg(finalgrade)|\n",
      "+----------+--------------------+\n",
      "|         0|7.697818300227938...|\n",
      "|         1|30.13394216133942...|\n",
      "|         3|2.752851711026615...|\n",
      "|         2|7.913372093023255...|\n",
      "|         4|7.581188118811881...|\n",
      "+----------+--------------------+\n",
      "\n"
     ]
    }
   ],
   "source": [
    "#grouping by cluster prediction and check average of finalgrade\n",
    "prediction.groupBy('prediction').agg({'finalgrade':'mean'}).show()"
   ]
  },
  {
   "cell_type": "markdown",
   "id": "2b356d9d-3156-4bab-9fa4-122c7c090f06",
   "metadata": {},
   "source": [
    "### Visualize the result\n",
    "To create the visualization, convert the result dataframe spark to pandas dataframe. We will create 3D visualization from itemid, userid and finalgrade as predictor."
   ]
  },
  {
   "cell_type": "code",
   "execution_count": 56,
   "id": "86ef98c7-0fe8-4293-9a08-d8c5d25d9836",
   "metadata": {},
   "outputs": [],
   "source": [
    "#convert prediction to Pandas\n",
    "pred_pd=prediction.toPandas().set_index('id')"
   ]
  },
  {
   "cell_type": "code",
   "execution_count": 57,
   "id": "7828ccff-13d3-42d8-89a2-a91d7ab95c2b",
   "metadata": {},
   "outputs": [
    {
     "data": {
      "text/html": [
       "<div>\n",
       "<style scoped>\n",
       "    .dataframe tbody tr th:only-of-type {\n",
       "        vertical-align: middle;\n",
       "    }\n",
       "\n",
       "    .dataframe tbody tr th {\n",
       "        vertical-align: top;\n",
       "    }\n",
       "\n",
       "    .dataframe thead th {\n",
       "        text-align: right;\n",
       "    }\n",
       "</style>\n",
       "<table border=\"1\" class=\"dataframe\">\n",
       "  <thead>\n",
       "    <tr style=\"text-align: right;\">\n",
       "      <th></th>\n",
       "      <th>itemid</th>\n",
       "      <th>userid</th>\n",
       "      <th>finalgrade</th>\n",
       "      <th>source</th>\n",
       "      <th>prediction</th>\n",
       "    </tr>\n",
       "    <tr>\n",
       "      <th>id</th>\n",
       "      <th></th>\n",
       "      <th></th>\n",
       "      <th></th>\n",
       "      <th></th>\n",
       "      <th></th>\n",
       "    </tr>\n",
       "  </thead>\n",
       "  <tbody>\n",
       "    <tr>\n",
       "      <th>221372</th>\n",
       "      <td>20565</td>\n",
       "      <td>3</td>\n",
       "      <td>14.000000000000000000</td>\n",
       "      <td>mod/quiz</td>\n",
       "      <td>4</td>\n",
       "    </tr>\n",
       "    <tr>\n",
       "      <th>221389</th>\n",
       "      <td>20560</td>\n",
       "      <td>39808</td>\n",
       "      <td>9.000000000000000000</td>\n",
       "      <td>mod/quiz</td>\n",
       "      <td>4</td>\n",
       "    </tr>\n",
       "    <tr>\n",
       "      <th>221405</th>\n",
       "      <td>20560</td>\n",
       "      <td>41751</td>\n",
       "      <td>8.000000000000000000</td>\n",
       "      <td>mod/quiz</td>\n",
       "      <td>4</td>\n",
       "    </tr>\n",
       "    <tr>\n",
       "      <th>221421</th>\n",
       "      <td>20560</td>\n",
       "      <td>41751</td>\n",
       "      <td>10.000000000000000000</td>\n",
       "      <td>mod/quiz</td>\n",
       "      <td>4</td>\n",
       "    </tr>\n",
       "    <tr>\n",
       "      <th>221422</th>\n",
       "      <td>20560</td>\n",
       "      <td>37384</td>\n",
       "      <td>8.000000000000000000</td>\n",
       "      <td>mod/quiz</td>\n",
       "      <td>4</td>\n",
       "    </tr>\n",
       "  </tbody>\n",
       "</table>\n",
       "</div>"
      ],
      "text/plain": [
       "        itemid  userid             finalgrade    source  prediction\n",
       "id                                                                 \n",
       "221372   20565       3  14.000000000000000000  mod/quiz           4\n",
       "221389   20560   39808   9.000000000000000000  mod/quiz           4\n",
       "221405   20560   41751   8.000000000000000000  mod/quiz           4\n",
       "221421   20560   41751  10.000000000000000000  mod/quiz           4\n",
       "221422   20560   37384   8.000000000000000000  mod/quiz           4"
      ]
     },
     "execution_count": 57,
     "metadata": {},
     "output_type": "execute_result"
    }
   ],
   "source": [
    "#show pandas dataframe\n",
    "pred_pd.head(5)"
   ]
  },
  {
   "cell_type": "code",
   "execution_count": 58,
   "id": "7b39178b-0b3e-4819-b93b-5b61c16e8be8",
   "metadata": {},
   "outputs": [
    {
     "name": "stdout",
     "output_type": "stream",
     "text": [
      "+------------+-----+\n",
      "|      source|count|\n",
      "+------------+-----+\n",
      "|mod/workshop| 2384|\n",
      "|    mod/quiz| 5712|\n",
      "|  mod/assign|   59|\n",
      "|    mod/data|  111|\n",
      "|  userdelete|    4|\n",
      "|   mod/forum|  422|\n",
      "+------------+-----+\n",
      "\n"
     ]
    }
   ],
   "source": [
    "prediction.groupBy('source').count().show()"
   ]
  },
  {
   "cell_type": "code",
   "execution_count": 59,
   "id": "33462ebe-b8e4-4cd6-a2db-8aa0fc1a5918",
   "metadata": {},
   "outputs": [
    {
     "name": "stderr",
     "output_type": "stream",
     "text": [
      "/tmp/ipykernel_1518/2284344918.py:3: MatplotlibDeprecationWarning: Calling gca() with keyword arguments was deprecated in Matplotlib 3.4. Starting two minor releases later, gca() will take no keyword arguments. The gca() function should only be used to get the current axes, or if no axes exist, create new axes with default keyword arguments. To create a new axes with non-default arguments, use plt.axes() or plt.subplot().\n",
      "  threedee = plt.figure(figsize=(12,20)).gca(projection='3d')\n"
     ]
    },
    {
     "data": {
      "image/png": "[encoded data removed]",
      "text/plain": [
       "<Figure size 864x1440 with 1 Axes>"
      ]
     },
     "metadata": {
      "needs_background": "light"
     },
     "output_type": "display_data"
    }
   ],
   "source": [
    "from mpl_toolkits.mplot3d import Axes3D\n",
    "#Create 3d visualization\n",
    "threedee = plt.figure(figsize=(12,20)).gca(projection='3d')\n",
    "threedee.scatter(pred_pd.userid.astype(float), pred_pd.itemid.astype(float), pred_pd.finalgrade.astype(float), c=pred_pd.prediction, cmap=\"seismic\")\n",
    "threedee.set_title('Students CLustering')\n",
    "threedee.set_xlabel('userid')\n",
    "threedee.set_ylabel('itemid')\n",
    "threedee.set_zlabel('finalgrade')\n",
    "plt.show()"
   ]
  },
  {
   "cell_type": "code",
   "execution_count": 60,
   "id": "1f851465-f153-4801-8cb5-cfc9da3092c6",
   "metadata": {},
   "outputs": [
    {
     "data": {
      "text/html": [
       "\n",
       "            <div>\n",
       "                <p><b>SparkSession - in-memory</b></p>\n",
       "                \n",
       "        <div>\n",
       "            <p><b>SparkContext</b></p>\n",
       "\n",
       "            <p><a href=\"http://172.19.119.117:4040\">Spark UI</a></p>\n",
       "\n",
       "            <dl>\n",
       "              <dt>Version</dt>\n",
       "                <dd><code>v3.0.3</code></dd>\n",
       "              <dt>Master</dt>\n",
       "                <dd><code>local</code></dd>\n",
       "              <dt>AppName</dt>\n",
       "                <dd><code>PySpark app</code></dd>\n",
       "            </dl>\n",
       "        </div>\n",
       "        \n",
       "            </div>\n",
       "        "
      ],
      "text/plain": [
       "<pyspark.sql.session.SparkSession at 0x7f73e4ffa340>"
      ]
     },
     "execution_count": 60,
     "metadata": {},
     "output_type": "execute_result"
    }
   ],
   "source": [
    "spark"
   ]
  },
  {
   "cell_type": "code",
   "execution_count": null,
   "id": "267ce473-009e-4369-947a-53d0dbc4aff6",
   "metadata": {},
   "outputs": [],
   "source": []
  }
 ],
 "metadata": {
  "kernelspec": {
   "display_name": "Python 3 (ipykernel)",
   "language": "python",
   "name": "python3"
  },
  "language_info": {
   "codemirror_mode": {
    "name": "ipython",
    "version": 3
   },
   "file_extension": ".py",
   "mimetype": "text/x-python",
   "name": "python",
   "nbconvert_exporter": "python",
   "pygments_lexer": "ipython3",
   "version": "3.9.12"
  }
 },
 "nbformat": 4,
 "nbformat_minor": 5
}
